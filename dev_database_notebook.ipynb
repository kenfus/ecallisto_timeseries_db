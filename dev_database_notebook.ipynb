{
 "cells": [
  {
   "cell_type": "code",
   "execution_count": 1,
   "metadata": {},
   "outputs": [],
   "source": [
    "from bulk_load_to_database_between_dates import get_paths\n",
    "from database_utils import reverse_extract_instrument_name, extract_instrument_name\n",
    "from datetime import datetime"
   ]
  },
  {
   "cell_type": "code",
   "execution_count": 2,
   "metadata": {},
   "outputs": [],
   "source": [
    "start_date = datetime(2023, 7, 27)\n",
    "end_date = datetime(2023, 7, 27)"
   ]
  },
  {
   "cell_type": "code",
   "execution_count": 3,
   "metadata": {},
   "outputs": [],
   "source": [
    "def instrument_name_to_glob_pattern(instrument_name: str) -> str:\n",
    "    \"\"\"Converts an instrument name to a glob pattern compatible with the e-Callisto \n",
    "    page containing the fits files at http://soleil.i4ds.ch/solarradio/data/2002-20yy_Callisto/\n",
    "    \"\"\"\n",
    "    in_dirty = reverse_extract_instrument_name(instrument_name, include_number=True)\n",
    "    print(in_dirty)\n",
    "    split = in_dirty.split(\"-\")\n",
    "    number = split.pop()\n",
    "    string = \"-\".join(split)\n",
    "\n",
    "    return f\"{string}*{number}.fit.gz\" "
   ]
  },
  {
   "cell_type": "code",
   "execution_count": 4,
   "metadata": {},
   "outputs": [
    {
     "name": "stdout",
     "output_type": "stream",
     "text": [
      "URUGUAY-02\n"
     ]
    },
    {
     "data": {
      "text/plain": [
       "'URUGUAY*02.fit.gz'"
      ]
     },
     "execution_count": 4,
     "metadata": {},
     "output_type": "execute_result"
    }
   ],
   "source": [
    "instrument_name_to_glob_pattern(\"URUGUAY_02\")"
   ]
  },
  {
   "cell_type": "code",
   "execution_count": 6,
   "metadata": {},
   "outputs": [
    {
     "name": "stdout",
     "output_type": "stream",
     "text": [
      "Australia-ASSA-60\n"
     ]
    },
    {
     "name": "stderr",
     "output_type": "stream",
     "text": [
      "fetching paths: 100%|██████████| 1/1 [00:00<00:00, 29.49it/s]\n"
     ]
    }
   ],
   "source": [
    "paths = get_paths(start_date, end_date, instrument_regexr_pattern=instrument_name_to_glob_pattern(\"australia_assa_60\"))"
   ]
  },
  {
   "cell_type": "code",
   "execution_count": null,
   "metadata": {},
   "outputs": [],
   "source": [
    "# Create mapping from instrument name to table name\n",
    "instrument_name_to_table_name = {k, v for "
   ]
  },
  {
   "cell_type": "code",
   "execution_count": 92,
   "metadata": {},
   "outputs": [
    {
     "data": {
      "text/plain": [
       "array(['alaska_anchorage_59', 'alaska_cohoe_00', 'alaska_cohoe_01',\n",
       "       'alaska_haarp_01', 'algeria_craag_59', 'almaty_58', 'almaty_59',\n",
       "       'australia_assa_60', 'australia_lmro_59', 'austria_krumbach_10',\n",
       "       'austria_oe3flb_55', 'austria_oe3flb_57', 'austria_unigraz_01',\n",
       "       'egypt_01', 'germany_dlr_01', 'greenland_62', 'greenland_63',\n",
       "       'humain_59', 'hurbanovo_59', 'india_gauri_59', 'india_iiserp_01',\n",
       "       'india_nashik_59', 'india_ooty_58', 'india_ooty_59',\n",
       "       'india_udaipur_01', 'indonesia_59', 'kasi_59', 'krim_00',\n",
       "       'krim_02', 'mexart_59', 'mongolia_gobi_01', 'mongolia_ub_01',\n",
       "       'newzealand_aut_59', 'norway_ny_aalesund_01',\n",
       "       'norway_randaberg_01', 'roswell_nm_57', 'roswell_nm_58',\n",
       "       'roswell_nm_59', 'southafrica_sansa_01', 'spain_alcala_03',\n",
       "       'spain_peralejos_01', 'spain_peralejos_03', 'spain_siguenza_01',\n",
       "       'swiss_blen5m_02', 'swiss_blen7m_01', 'swiss_hb9sct_01',\n",
       "       'swiss_hb9sct_02', 'swiss_irsol_01', 'swiss_landschlacht_01',\n",
       "       'swiss_landschlacht_02', 'swiss_muhen_01', 'swiss_muhen_02',\n",
       "       'triest_57', 'triest_59', 'usa_arizona_erau_58'], dtype='<U21')"
      ]
     },
     "execution_count": 92,
     "metadata": {},
     "output_type": "execute_result"
    }
   ],
   "source": [
    "import numpy as np\n",
    "np.unique([extract_instrument_name(path) for path in paths[\"path\"]])"
   ]
  },
  {
   "cell_type": "code",
   "execution_count": 81,
   "metadata": {},
   "outputs": [],
   "source": [
    "from radiospectra.sources import CallistoSpectrogram"
   ]
  },
  {
   "cell_type": "code",
   "execution_count": 82,
   "metadata": {},
   "outputs": [],
   "source": [
    "def get_last_spectrogram_from_paths_list(paths: dict[str, list[str]]) -> dict[str, str]:\n",
    "    \"\"\"Returns the last spectrogram for each instrument from a list of paths.\n",
    "    \"\"\"\n",
    "    date_paths = zip(paths[\"date_changed\"], paths[\"path\"])\n",
    "    # Make sure the paths are sorted by date\n",
    "    last_path = sorted(date_paths, key=lambda x: x[0])[-1][1]\n",
    "\n",
    "    print(last_path)\n",
    "\n",
    "    spec = CallistoSpectrogram.read(last_path)\n",
    "    return spec"
   ]
  },
  {
   "cell_type": "code",
   "execution_count": 83,
   "metadata": {},
   "outputs": [
    {
     "name": "stdout",
     "output_type": "stream",
     "text": [
      "/mnt/nas05/data01/radio/2002-20yy_Callisto/2021/01/01/AUSTRIA-UNIGRAZ_20210101_150002_01.fit.gz\n"
     ]
    }
   ],
   "source": [
    "spec = get_last_spectrogram_from_paths_list(paths)"
   ]
  },
  {
   "cell_type": "code",
   "execution_count": 7,
   "metadata": {},
   "outputs": [],
   "source": [
    "import pandas as pd"
   ]
  },
  {
   "cell_type": "code",
   "execution_count": 19,
   "metadata": {},
   "outputs": [],
   "source": [
    "spec = CallistoSpectrogram.read(paths['path'][-1])"
   ]
  },
  {
   "cell_type": "code",
   "execution_count": 23,
   "metadata": {},
   "outputs": [
    {
     "data": {
      "text/plain": [
       "array([[184., 183., 184., ..., 183., 183., 183.],\n",
       "       [172., 171., 172., ..., 172., 172., 171.],\n",
       "       [181., 180., 181., ..., 181., 180., 181.],\n",
       "       ...,\n",
       "       [ nan,  nan,  nan, ...,  nan,  nan,  nan],\n",
       "       [ nan,  nan,  nan, ...,  nan,  nan,  nan],\n",
       "       [ nan,  nan,  nan, ...,  nan,  nan,  nan]])"
      ]
     },
     "execution_count": 23,
     "metadata": {},
     "output_type": "execute_result"
    }
   ],
   "source": [
    "spec.data.data"
   ]
  },
  {
   "cell_type": "code",
   "execution_count": 28,
   "metadata": {},
   "outputs": [],
   "source": [
    "df = pd.DataFrame(spec.data).dropna()"
   ]
  },
  {
   "cell_type": "code",
   "execution_count": 29,
   "metadata": {},
   "outputs": [],
   "source": [
    "# Add meta data to the dataframe\n",
    "for key, value in spec.header.items():\n",
    "    df.attrs[key] = value"
   ]
  },
  {
   "cell_type": "code",
   "execution_count": 34,
   "metadata": {},
   "outputs": [
    {
     "data": {
      "text/plain": [
       "'2021-01-01'"
      ]
     },
     "execution_count": 34,
     "metadata": {},
     "output_type": "execute_result"
    }
   ],
   "source": [
    "df.attrs['DATE']"
   ]
  },
  {
   "cell_type": "code",
   "execution_count": 45,
   "metadata": {},
   "outputs": [
    {
     "data": {
      "text/plain": [
       "SIMPLE  =                    T / file does conform to FITS standard             \n",
       "BITPIX  =                    8 / number of bits per data pixel                  \n",
       "NAXIS   =                    2 / number of data axes                            \n",
       "NAXIS1  =                 3583 / length of data axis 1                          \n",
       "NAXIS2  =                  200 / length of data axis 2                          \n",
       "EXTEND  =                    T / FITS dataset may contain extensions            \n",
       "COMMENT   FITS (Flexible Image Transport System) format defined in Astronomy and\n",
       "COMMENT   Astrophysics Supplement Series v44/p363, v44/p371, v73/p359, v73/p365.\n",
       "COMMENT   Contact the NASA Science Office of Standards and Technology for the   \n",
       "COMMENT   FITS Definition document #100 and other FITS information.             \n",
       "DATE    = '2021-01-01'         / Time of observation                            \n",
       "CONTENT = '2021/01/01  Radio flux density, e-CALLISTO (AUSTRIA-UNIGRAZ)' / Title\n",
       "ORIGIN  = 'OLG     '           / Organization name                              \n",
       "TELESCOP= 'Radio Spectrometer' / Type of instrument                             \n",
       "INSTRUME= 'AUSTRIA-UNIGRAZ'    / Name of the spectrometer                       \n",
       "OBJECT  = 'Sun     '           / object description                             \n",
       "DATE-OBS= '2021/01/01'         / Date observation starts                        \n",
       "TIME-OBS= '15:00:02.427'       / Time observation starts                        \n",
       "DATE-END= '2021/01/01'         / date observation ends                          \n",
       "TIME-END= '15:14:57'           / time observation ends                          \n",
       "BZERO   =                   0. / scaling offset                                 \n",
       "BSCALE  =                   1. / scaling factor                                 \n",
       "BUNIT   = 'digits  '           / z-axis title                                   \n",
       "DATAMIN =                    0 / minimum element in image                       \n",
       "DATAMAX =                  254 / maximum element in image                       \n",
       "CRVAL1  =               54002. / value on axis 1 at reference pixel [sec of day]\n",
       "CRPIX1  =                    0 / reference pixel of axis 1                      \n",
       "CTYPE1  = 'Time [UT]'          / title of axis 1                                \n",
       "CDELT1  =                 0.25 / step between first and second element in x-axis\n",
       "CRVAL2  =                 200. / value on axis 2 at the reference pixel         \n",
       "CRPIX2  =                    0 / reference pixel of axis 2                      \n",
       "CTYPE2  = 'Frequency [MHz]'    / title of axis 2                                \n",
       "CDELT2  =                  -1. / step between first and second element in axis  \n",
       "OBS_LAT =     47.0999984741211 / observatory latitude in degree                 \n",
       "OBS_LAC = 'N       '           / observatory latitude code {N,S}                \n",
       "OBS_LON =                 15.5 / observatory longitude in degree                \n",
       "OBS_LOC = 'E       '           / observatory longitude code {E,W}               \n",
       "OBS_ALT =                 494. / observatory altitude in meter asl              \n",
       "FRQFILE = 'FRQ00002.CFG'       / name of frequency file                         \n",
       "PWM_VAL =                  120 / PWM value to control tuner gain                "
      ]
     },
     "execution_count": 45,
     "metadata": {},
     "output_type": "execute_result"
    }
   ],
   "source": [
    "spec.header"
   ]
  }
 ],
 "metadata": {
  "kernelspec": {
   "display_name": "sunflare_prediction",
   "language": "python",
   "name": "python3"
  },
  "language_info": {
   "codemirror_mode": {
    "name": "ipython",
    "version": 3
   },
   "file_extension": ".py",
   "mimetype": "text/x-python",
   "name": "python",
   "nbconvert_exporter": "python",
   "pygments_lexer": "ipython3",
   "version": "3.9.16"
  },
  "orig_nbformat": 4,
  "vscode": {
   "interpreter": {
    "hash": "75b4b533ce743184e2e2cd8cec81140adf5f35d71c59667a5fcd80c861828eff"
   }
  }
 },
 "nbformat": 4,
 "nbformat_minor": 2
}
