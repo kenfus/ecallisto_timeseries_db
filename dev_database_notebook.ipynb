{
 "cells": [
  {
   "cell_type": "code",
   "execution_count": 2,
   "metadata": {},
   "outputs": [
    {
     "name": "stdout",
     "output_type": "stream",
     "text": [
      "Checking 30 folders with 120161 files...\n",
      "Checking 30 folders with 120161 files...\n",
      "Checking 30 folders with 120161 files...\n",
      "Checking 30 folders with 120161 files...\n",
      "Checking 30 folders with 120161 files...\n"
     ]
    }
   ],
   "source": [
    "import os\n",
    "import time\n",
    "from datetime import datetime, timedelta\n",
    "\n",
    "def get_files_with_timestamps(path):\n",
    "    files_with_timestamps = {}\n",
    "    for dirpath, dirnames, filenames in os.walk(path):\n",
    "        for file in filenames:\n",
    "            full_path = os.path.join(dirpath, file)\n",
    "            files_with_timestamps[full_path] = os.path.getmtime(full_path)\n",
    "    return files_with_timestamps\n",
    "\n",
    "\n",
    "def monitor_directories(dirs):\n",
    "    # Store the initial state of the directories\n",
    "    prev_state = {dir: get_files_with_timestamps(dir) for dir in dirs}\n",
    "\n",
    "    while True:\n",
    "        # Sleep first to prevent excessive CPU usage\n",
    "        time.sleep(5)\n",
    "\n",
    "        print(f\"Checking {len(prev_state)} folders with {sum([len(prev_state[dir]) for dir in prev_state])} files...\")\n",
    "\n",
    "        # Get the current state of the directories\n",
    "        curr_state = {dir: get_files_with_timestamps(dir) for dir in dirs}\n",
    "\n",
    "        for dir in dirs:\n",
    "            # Determine added, removed and modified files\n",
    "            added = [f for f in curr_state[dir] if f not in prev_state[dir]]\n",
    "            removed = [f for f in prev_state[dir] if f not in curr_state[dir]]\n",
    "            modified = [f for f in curr_state[dir] if f in prev_state[dir] and curr_state[dir][f] != prev_state[dir][f]]\n",
    "\n",
    "            # If there are any changes, print them\n",
    "            if added:\n",
    "                print(f\"In {dir} - Added: \", \", \".join(added))\n",
    "            if removed:\n",
    "                print(f\"In {dir} - Removed: \", \", \".join(removed))\n",
    "            if modified:\n",
    "                print(f\"In {dir} - Modified: \", \", \".join(modified))\n",
    "\n",
    "            # Create a list of paths to add to the database\n",
    "            to_add = added + modified\n",
    "\n",
    "            if to_add:\n",
    "                print(f\"Adding {len(to_add)} files to the database...\")\n",
    "\n",
    "        # Update the stored state\n",
    "        prev_state = curr_state\n",
    "\n",
    "if __name__ == \"__main__\":\n",
    "    # Calculate the last 60 days\n",
    "    base_path = \"/mnt/nas05/data01/radio/2002-20yy_Callisto/\"\n",
    "    days_to_check = 30\n",
    "    dirs_to_monitor = []\n",
    "    for i in range(days_to_check):\n",
    "        day_ago = datetime.now() - timedelta(days=i)\n",
    "        date_path = day_ago.strftime('%Y/%m/%d')\n",
    "        dirs_to_monitor.append(f\"{base_path}{date_path}/\")\n",
    "    monitor_directories(dirs_to_monitor)\n"
   ]
  }
 ],
 "metadata": {
  "kernelspec": {
   "display_name": "sunflare_prediction",
   "language": "python",
   "name": "python3"
  },
  "language_info": {
   "codemirror_mode": {
    "name": "ipython",
    "version": 3
   },
   "file_extension": ".py",
   "mimetype": "text/x-python",
   "name": "python",
   "nbconvert_exporter": "python",
   "pygments_lexer": "ipython3",
   "version": "3.9.16"
  },
  "orig_nbformat": 4,
  "vscode": {
   "interpreter": {
    "hash": "75b4b533ce743184e2e2cd8cec81140adf5f35d71c59667a5fcd80c861828eff"
   }
  }
 },
 "nbformat": 4,
 "nbformat_minor": 2
}
